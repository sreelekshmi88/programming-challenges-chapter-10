{
 "cells": [
  {
   "cell_type": "markdown",
   "metadata": {},
   "source": [
    "## Chapter 10- Programming Challenges\n",
    " BY R Sreelekshmi"
   ]
  },
  {
   "cell_type": "markdown",
   "metadata": {},
   "source": [
    "**Program 1 - Three in Three out**"
   ]
  },
  {
   "cell_type": "code",
   "execution_count": 10,
   "metadata": {},
   "outputs": [
    {
     "name": "stdout",
     "output_type": "stream",
     "text": [
      "Please enter your name.\n",
      "Lister\n",
      "What is your age?\n",
      "39\n",
      "What is your favourite TV programme?\n",
      "Red Dwarf\n",
      "\n",
      "\n",
      "Lister\n",
      "is\n",
      "39\n",
      "years old and likes\n",
      "Red Dwarf\n"
     ]
    }
   ],
   "source": [
    "name=input(\"Please enter your name.\\n\")\n",
    "age=input(\"What is your age?\\n\")\n",
    "tv=input(\"What is your favourite TV programme?\\n\") \n",
    "print(\"\\n\")\n",
    "print(name,\"is\",age,\"years old and likes\",tv, sep=\"\\n\")\n"
   ]
  },
  {
   "cell_type": "markdown",
   "metadata": {},
   "source": [
    "**Program 2 - Name Swapper**"
   ]
  },
  {
   "cell_type": "code",
   "execution_count": 12,
   "metadata": {},
   "outputs": [
    {
     "name": "stdout",
     "output_type": "stream",
     "text": [
      "\n",
      "David\n",
      "Tennant\n",
      "\n",
      "\n",
      "Tennant David\n"
     ]
    }
   ],
   "source": [
    "firstName=input(\"\\n\")\n",
    "surName=input()\n",
    "print(\"\\n\")\n",
    "print(surName,firstName)"
   ]
  },
  {
   "cell_type": "markdown",
   "metadata": {},
   "source": [
    "**Program 3- Three in, three out (formatted)**"
   ]
  },
  {
   "cell_type": "code",
   "execution_count": 13,
   "metadata": {},
   "outputs": [
    {
     "name": "stdout",
     "output_type": "stream",
     "text": [
      "Please enter your name.\n",
      "Lister\n",
      "What is your age?\n",
      "39\n",
      "What is your favourite TV programme?\n",
      "Red Dwarf\n",
      "\n",
      "\n",
      "Lister 39 \n",
      "Likes watching Red Dwarf\n"
     ]
    }
   ],
   "source": [
    "name=input(\"Please enter your name.\\n\")\n",
    "age=input(\"What is your age?\\n\")\n",
    "tv=input(\"What is your favourite TV programme?\\n\") \n",
    "print(\"\\n\")\n",
    "print(name,age,\"\\nLikes watching\",tv)\n"
   ]
  },
  {
   "cell_type": "markdown",
   "metadata": {},
   "source": [
    "**Program 4- Postcode formatter**"
   ]
  },
  {
   "cell_type": "code",
   "execution_count": 15,
   "metadata": {},
   "outputs": [
    {
     "name": "stdout",
     "output_type": "stream",
     "text": [
      "KY\n",
      "8\n",
      "9\n",
      "HL\n",
      "\n",
      "\n",
      "KY8 9HL\n"
     ]
    }
   ],
   "source": [
    "let1=input()\n",
    "num1=input()\n",
    "num2=input()\n",
    "let2=input()\n",
    "print(\"\\n\")\n",
    "print(let1+num1,num2+let2)\n"
   ]
  },
  {
   "cell_type": "markdown",
   "metadata": {},
   "source": [
    "**Program 5- Calculate the area of a rectangle**"
   ]
  },
  {
   "cell_type": "code",
   "execution_count": 17,
   "metadata": {},
   "outputs": [
    {
     "name": "stdout",
     "output_type": "stream",
     "text": [
      "Please enter the following values in cm.\n",
      "Please enter the length of the rectangle\n",
      "12\n",
      "Please enter the width of the rectangle\n",
      "6\n",
      "The area of the rectangle is:\n",
      "72 square centimetres\n"
     ]
    }
   ],
   "source": [
    "print(\"Please enter the following values in cm.\")\n",
    "length=int(input(\"Please enter the length of the rectangle\\n\"))\n",
    "width=int(input(\"Please enter the width of the rectangle\\n\"))\n",
    "area=length*width\n",
    "print(\"The area of the rectangle is:\")\n",
    "print(area,\"square centimetres\")"
   ]
  },
  {
   "cell_type": "markdown",
   "metadata": {},
   "source": [
    "**Program 6- Number generator**"
   ]
  },
  {
   "cell_type": "code",
   "execution_count": 22,
   "metadata": {},
   "outputs": [
    {
     "name": "stdout",
     "output_type": "stream",
     "text": [
      "2\n",
      "6\n",
      "26\n"
     ]
    }
   ],
   "source": [
    "num1=str(input())\n",
    "num2=str(input())\n",
    "total=num1+num2\n",
    "print(total)"
   ]
  },
  {
   "cell_type": "markdown",
   "metadata": {},
   "source": [
    "**Program 7- Postcode formatter (part 2)**"
   ]
  },
  {
   "cell_type": "code",
   "execution_count": 23,
   "metadata": {},
   "outputs": [
    {
     "name": "stdout",
     "output_type": "stream",
     "text": [
      "KY\n",
      "8\n",
      "9\n",
      "hl\n",
      "\n",
      "\n",
      "KY8 9HL\n"
     ]
    }
   ],
   "source": [
    "let1=input()\n",
    "num1=input()\n",
    "num2=input()\n",
    "let2=input()\n",
    "print(\"\\n\")\n",
    "print(let1.upper()+num1,num2+let2.upper())\n"
   ]
  },
  {
   "cell_type": "markdown",
   "metadata": {},
   "source": [
    "**Program 8- Name length**"
   ]
  },
  {
   "cell_type": "code",
   "execution_count": 3,
   "metadata": {},
   "outputs": [
    {
     "name": "stdout",
     "output_type": "stream",
     "text": [
      "Please enter your forename:\n",
      "David\n",
      "Please enter your surname:\n",
      "Stott\n",
      "There are 10 letters in your name.\n"
     ]
    }
   ],
   "source": [
    "fn=input(\"Please enter your forename:\\n\")\n",
    "sn=input(\"Please enter your surname:\\n\")\n",
    "word=fn+sn\n",
    "length=len(word)\n",
    "print(\"There are\",length,\"letters in your name.\")\n"
   ]
  },
  {
   "cell_type": "markdown",
   "metadata": {},
   "source": [
    "**Program 9- Counting vowels**"
   ]
  },
  {
   "cell_type": "code",
   "execution_count": 7,
   "metadata": {},
   "outputs": [
    {
     "name": "stdout",
     "output_type": "stream",
     "text": [
      "Please enter a sentence of your choice.\n",
      "Luke, I am your father\n",
      "Your sentence contained the following:\n",
      "a= 2\n",
      "e= 2\n",
      "i= 1\n",
      "o= 1\n",
      "u= 2\n",
      "This is a total of 8 vowels\n"
     ]
    }
   ],
   "source": [
    "sen=input(\"Please enter a sentence of your choice.\\n\")\n",
    "print(\"Your sentence contained the following:\")\n",
    "acount=sen.count(\"a\")+sen.count(\"A\")\n",
    "ecount=sen.count(\"e\")+sen.count(\"E\")\n",
    "icount=sen.count(\"i\")+sen.count(\"I\")\n",
    "ocount=sen.count(\"o\")+sen.count(\"O\")\n",
    "ucount=sen.count(\"u\")+sen.count(\"U\")\n",
    "print(\"a=\",acount)\n",
    "print(\"e=\",ecount)\n",
    "print(\"i=\",icount)\n",
    "print(\"o=\",ocount)\n",
    "print(\"u=\",ucount)\n",
    "total=acount+ecount+icount+ocount+ucount\n",
    "print(\"This is a total of\",total,\"vowels\")"
   ]
  },
  {
   "cell_type": "markdown",
   "metadata": {},
   "source": [
    "**Program 10- Changing gender**"
   ]
  },
  {
   "cell_type": "code",
   "execution_count": 9,
   "metadata": {},
   "outputs": [
    {
     "name": "stdout",
     "output_type": "stream",
     "text": [
      "Please enter the male report.\n",
      "He should always ensure that his answers contain as much detail as possible.\n",
      "The female comment is:\n",
      "She should always ensure that her answers contain as much detail as possible.\n"
     ]
    }
   ],
   "source": [
    "rep=input(\"Please enter the male report.\\n\")\n",
    "rep=rep.replace(\"He\",\"She\")\n",
    "rep=rep.replace(\"his\",\"her\")\n",
    "print(\"The female comment is:\",rep,sep=\"\\n\")\n"
   ]
  },
  {
   "cell_type": "markdown",
   "metadata": {},
   "source": [
    "**Program 11- Stock code generator**"
   ]
  },
  {
   "cell_type": "code",
   "execution_count": 2,
   "metadata": {},
   "outputs": [
    {
     "name": "stdout",
     "output_type": "stream",
     "text": [
      "Please enter the product name.\n",
      "Plaza Beans\n",
      "Please enter the year.\n",
      "2016\n",
      "The stock code for Plaza Beans is:\n",
      "Plns26\n"
     ]
    }
   ],
   "source": [
    "pn=input(\"Please enter the product name.\\n\")\n",
    "y=str(input(\"Please enter the year.\\n\"))\n",
    "n=len(pn)\n",
    "m=len(y)\n",
    "code=pn[0:2]+pn[n-2:]+y[0:1]+y[m-1:]\n",
    "print(\"The stock code for\",pn,\"is:\")\n",
    "print(code)"
   ]
  },
  {
   "cell_type": "markdown",
   "metadata": {},
   "source": [
    "**Program 12-Auction fee**"
   ]
  },
  {
   "cell_type": "code",
   "execution_count": 1,
   "metadata": {},
   "outputs": [
    {
     "name": "stdout",
     "output_type": "stream",
     "text": [
      "Please enter your three costs.\n",
      "12.78\n",
      "6.32\n",
      "34.99\n",
      "The the total cost is £ 54.09\n",
      "The auction companies\n",
      "fee is £ 5\n"
     ]
    }
   ],
   "source": [
    "print(\"Please enter your three costs.\")\n",
    "a=float(input())\n",
    "b=float(input())\n",
    "c=float(input())\n",
    "print(\"The the total cost is £\",a+b+c)\n",
    "print(\"The auction companies\")\n",
    "print(\"fee is £\",int((a+b+c)/10))"
   ]
  },
  {
   "cell_type": "markdown",
   "metadata": {},
   "source": [
    "**Program 13-Calculate the area of a circle**"
   ]
  },
  {
   "cell_type": "code",
   "execution_count": 2,
   "metadata": {},
   "outputs": [
    {
     "name": "stdout",
     "output_type": "stream",
     "text": [
      "Please enter the following value in cm.\n",
      "Please enter the radius of the circle.\n",
      "16\n",
      "The area of the circle is:\n",
      "803.84 square centimeteres\n"
     ]
    }
   ],
   "source": [
    "print(\"Please enter the following value in cm.\")\n",
    "r=int(input(\"Please enter the radius of the circle.\\n\"))\n",
    "area=3.14*r*r\n",
    "print(\"The area of the circle is:\")\n",
    "print(area,\"square centimeteres\")"
   ]
  },
  {
   "cell_type": "markdown",
   "metadata": {},
   "source": [
    "**Program 14- Prize draw cheat**"
   ]
  },
  {
   "cell_type": "code",
   "execution_count": 4,
   "metadata": {},
   "outputs": [
    {
     "name": "stdout",
     "output_type": "stream",
     "text": [
      "Please enter the volume of the jar(cm3):\n",
      "2712.96\n",
      "Please enter the volume of one sweet(cm3):\n",
      "2.12\n",
      "1279 sweets fit into the jar.\n"
     ]
    }
   ],
   "source": [
    "jar=float(input(\"Please enter the volume of the jar(cm3):\\n\"))\n",
    "sweet=float(input(\"Please enter the volume of one sweet(cm3):\\n\"))\n",
    "fit=int(jar/sweet)\n",
    "print(fit,\"sweets fit into the jar.\")"
   ]
  },
  {
   "cell_type": "markdown",
   "metadata": {},
   "source": [
    "**Program 15-Leftover paint**"
   ]
  },
  {
   "cell_type": "code",
   "execution_count": 4,
   "metadata": {},
   "outputs": [
    {
     "name": "stdout",
     "output_type": "stream",
     "text": [
      "Enter the area in m2 to be painted.\n",
      "178\n",
      "Enter the area (m2) that a single pot covers.\n",
      "25\n",
      "You will need 8 pots of paints.\n",
      "You can paint 22 m2 with the leftover paint.\n"
     ]
    }
   ],
   "source": [
    "import math\n",
    "area=int(input(\"Enter the area in m2 to be painted.\\n\"))\n",
    "pot=int(input(\"Enter the area (m2) that a single pot covers.\\n\"))\n",
    "pots=area/pot\n",
    "print(\"You will need\",math.ceil(pots),\"pots of paints.\")\n",
    "rem=(math.ceil(pots)*pot-area)\n",
    "print(\"You can paint\",rem,\"m2 with the leftover paint.\")"
   ]
  },
  {
   "cell_type": "markdown",
   "metadata": {},
   "source": [
    "**Program 16-Laying bricks**"
   ]
  },
  {
   "cell_type": "code",
   "execution_count": 7,
   "metadata": {},
   "outputs": [
    {
     "name": "stdout",
     "output_type": "stream",
     "text": [
      "Please enter the legth of a brick in cm:\n",
      "20\n",
      "Please enter the length of the wall in m:\n",
      "9.89\n",
      "47 bricks build one row of wall.\n",
      "This is 2.0 cm short of the required wall length.\n"
     ]
    }
   ],
   "source": [
    "brick=float(input(\"Please enter the legth of a brick in cm:\\n\"))\n",
    "wall=float(input(\"Please enter the length of the wall in m:\\n\"))\n",
    "fit=int((wall*100)/(brick+1))\n",
    "print(fit,\"bricks build one row of wall.\")\n",
    "left=(wall*100)-(fit*(brick+1))\n",
    "print(\"This is\",left,\"cm short of the required wall length.\")"
   ]
  },
  {
   "cell_type": "markdown",
   "metadata": {},
   "source": [
    "**Program 17-Calculating the atomic weight of HC**"
   ]
  },
  {
   "cell_type": "code",
   "execution_count": 10,
   "metadata": {},
   "outputs": [
    {
     "name": "stdout",
     "output_type": "stream",
     "text": [
      "Enter the number of carbon atoms.\n",
      "3\n",
      "The atomic mass of C3H8 is 44\n"
     ]
    }
   ],
   "source": [
    "c=int(input(\"Enter the number of carbon atoms.\\n\"))\n",
    "h=(c*2)+2\n",
    "am=(c*12)+h\n",
    "c=str(c)\n",
    "h=str(h)\n",
    "print(\"The atomic mass of\",\"C\"+c+\"H\"+h,\"is\",am)"
   ]
  },
  {
   "cell_type": "markdown",
   "metadata": {},
   "source": [
    "**Program 18-Standard scratch**"
   ]
  },
  {
   "cell_type": "code",
   "execution_count": 12,
   "metadata": {},
   "outputs": [
    {
     "name": "stdout",
     "output_type": "stream",
     "text": [
      "How many par 3 holes are there?\n",
      "6\n",
      "How many par 4 holes are there?\n",
      "10\n",
      "How many par 5 holes are there?\n",
      "2\n",
      "What is the difficulty adjustment for the course?\n",
      "-2\n",
      "The Standard Scratch score for the course is:\n",
      "66\n"
     ]
    }
   ],
   "source": [
    "par3=int(input(\"How many par 3 holes are there?\\n\"))\n",
    "par4=int(input(\"How many par 4 holes are there?\\n\"))\n",
    "par5=int(input(\"How many par 5 holes are there?\\n\"))\n",
    "adj=int(input(\"What is the difficulty adjustment for the course?\\n\"))\n",
    "ss=(par3*3)+(par4*4)+(par5*5)+adj\n",
    "print(\"The Standard Scratch score for the course is:\",ss,sep=\"\\n\")"
   ]
  },
  {
   "cell_type": "markdown",
   "metadata": {},
   "source": [
    "**Program 19-Cycling speed**"
   ]
  },
  {
   "cell_type": "code",
   "execution_count": 15,
   "metadata": {},
   "outputs": [
    {
     "name": "stdout",
     "output_type": "stream",
     "text": [
      "What is the circumference of yor wheel in millimeteres?\n",
      "1250\n",
      "How many wheel revolutions have taken place in your journey?\n",
      "8920\n",
      "How many minutes did you cycle for?\n",
      "30\n",
      "You covered 11.15 km.\n",
      "At an average speed of 22.3 kmh.\n"
     ]
    }
   ],
   "source": [
    "cirf=float(input(\"What is the circumference of yor wheel in millimeteres?\\n\"))\n",
    "rev=float(input(\"How many wheel revolutions have taken place in your journey?\\n\"))\n",
    "min=float(input(\"How many minutes did you cycle for?\\n\"))\n",
    "d=cirf*rev*pow(10,-6)\n",
    "print(\"You covered\",d,\"km.\")\n",
    "s=d/(min/60)\n",
    "print(\"At an average speed of\",s,\"kmh.\")"
   ]
  },
  {
   "cell_type": "code",
   "execution_count": null,
   "metadata": {},
   "outputs": [],
   "source": []
  }
 ],
 "metadata": {
  "kernelspec": {
   "display_name": "Python 3",
   "language": "python",
   "name": "python3"
  },
  "language_info": {
   "codemirror_mode": {
    "name": "ipython",
    "version": 3
   },
   "file_extension": ".py",
   "mimetype": "text/x-python",
   "name": "python",
   "nbconvert_exporter": "python",
   "pygments_lexer": "ipython3",
   "version": "3.7.7"
  }
 },
 "nbformat": 4,
 "nbformat_minor": 4
}
